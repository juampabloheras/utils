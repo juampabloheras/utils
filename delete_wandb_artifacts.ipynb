{
 "cells": [
  {
   "cell_type": "markdown",
   "metadata": {},
   "source": [
    "## 🗑️ Delete WandB artifacts using WandB-Python API 📂\n",
    "\n",
    "#### This notebook contains code to:\n",
    "- Retrieve run data from **Weights & Biases** using the API\n",
    "- Delete artifacts from run\n",
    "___"
   ]
  },
  {
   "cell_type": "markdown",
   "metadata": {},
   "source": [
    "#### 🔬 This cell is where you specify the experiments that you would like to analyze"
   ]
  },
  {
   "cell_type": "code",
   "execution_count": 1,
   "metadata": {},
   "outputs": [
    {
     "name": "stdout",
     "output_type": "stream",
     "text": [
      "run name =  DEBUG2_fold0  id:  wwnh0y5p\n",
      "run name =  DEBUG2_fold0  id:  slcwhboh\n",
      "run name =  DEBUG2_fold0  id:  b9emwjcn\n",
      "run name =  DEBUG2_fold0  id:  4l0smi45\n"
     ]
    }
   ],
   "source": [
    "import wandb\n",
    "import re\n",
    "\n",
    "api = wandb.Api()\n",
    "entity = 'brats_dann'   # Keep the same\n",
    "project = 'monai-stroke-segmentation'  # Your project name\n",
    "run_name = 'DEBUG2'\n",
    "\n",
    "runs = api.runs(path=f'{entity}/{project}')\n",
    "run_ids_list = []\n",
    "for i in runs:\n",
    "  if run_name in i.name: # Can be changed\n",
    "    print(\"run name = \",i.name,\" id: \", i.id)\n",
    "    run_ids_list.append(i.id)"
   ]
  },
  {
   "cell_type": "markdown",
   "metadata": {},
   "source": [
    "#### 🗑️⛔️ This cell deletes the artifacts from the runs in **run_ids_list**. The deletion line is commented out as a safety so you can see what is being deleted. Once you are sure of what you're deleting, uncomment this line and rerun this cell."
   ]
  },
  {
   "cell_type": "code",
   "execution_count": 4,
   "metadata": {},
   "outputs": [
    {
     "name": "stdout",
     "output_type": "stream",
     "text": [
      "Deleting artifact: 4l0smi45-checkpoint-epoch_29:v0\n"
     ]
    }
   ],
   "source": [
    "epoch_pattern = re.compile(r\"epoch_(\\d+):v\\d+\")\n",
    "\n",
    "for run_id in run_ids_list:\n",
    "    run = api.run(f\"{entity}/{project}/{run_id}\")\n",
    "    for artifact in run.logged_artifacts():\n",
    "        match = epoch_pattern.search(artifact.name)\n",
    "        if match:\n",
    "            epoch_number = int(match.group(1))\n",
    "            if epoch_number % 10 != 0: # delete all artifacts with epoch number not divisible by 10\n",
    "                print(f\"Deleting artifact: {artifact.name}\")\n",
    "                # artifact.delete(delete_aliases=True)  #### Uncomment when you're ready to delete"
   ]
  }
 ],
 "metadata": {
  "kernelspec": {
   "display_name": "torch",
   "language": "python",
   "name": "python3"
  },
  "language_info": {
   "codemirror_mode": {
    "name": "ipython",
    "version": 3
   },
   "file_extension": ".py",
   "mimetype": "text/x-python",
   "name": "python",
   "nbconvert_exporter": "python",
   "pygments_lexer": "ipython3",
   "version": "3.11.6"
  }
 },
 "nbformat": 4,
 "nbformat_minor": 2
}
